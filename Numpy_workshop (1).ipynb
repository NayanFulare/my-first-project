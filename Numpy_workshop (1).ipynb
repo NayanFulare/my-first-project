{
 "cells": [
  {
   "cell_type": "markdown",
   "id": "d9285e53-8642-4ae1-bddb-d4d315df13e8",
   "metadata": {},
   "source": [
    "#Numpy"
   ]
  },
  {
   "cell_type": "code",
   "execution_count": 1,
   "id": "87ffb2ce-ce00-4716-a1a4-01d46ab8bc2a",
   "metadata": {},
   "outputs": [
    {
     "name": "stdout",
     "output_type": "stream",
     "text": [
      "55\n",
      "<class 'numpy.ndarray'>\n",
      "()\n"
     ]
    }
   ],
   "source": [
    "import numpy as np\n",
    "x1=np.array(55)\n",
    "print(x1)\n",
    "print(type(x1))\n",
    "print(x1.shape)"
   ]
  },
  {
   "cell_type": "markdown",
   "id": "bf6ac1d1-96cf-46b2-af74-c1fd0990d3bc",
   "metadata": {},
   "source": [
    "###1D array"
   ]
  },
  {
   "cell_type": "code",
   "execution_count": 12,
   "id": "67678ed7-ded5-4318-b21e-7c2243fc2e97",
   "metadata": {},
   "outputs": [
    {
     "name": "stdout",
     "output_type": "stream",
     "text": [
      "[1 2 3 4 5 6 7 8 9]\n",
      "<class 'numpy.ndarray'>\n",
      "1\n",
      "(9,)\n"
     ]
    }
   ],
   "source": [
    "x2=np.array([1,2,3,4,5,6,7,8,9])\n",
    "print(x2)\n",
    "print(type(x2))\n",
    "print(x2.ndim)\n",
    "print(x2.shape)"
   ]
  },
  {
   "cell_type": "code",
   "execution_count": 5,
   "id": "e93a4b33-0019-459a-89c8-1da39cf5ca4e",
   "metadata": {},
   "outputs": [
    {
     "name": "stdout",
     "output_type": "stream",
     "text": [
      "1.26.4\n"
     ]
    }
   ],
   "source": [
    "print(np.__version__)"
   ]
  },
  {
   "cell_type": "markdown",
   "id": "969b780f-7f5f-4ec4-babe-a26d01c03571",
   "metadata": {},
   "source": [
    "##User input"
   ]
  },
  {
   "cell_type": "code",
   "execution_count": 14,
   "id": "de0a0345-e5ba-4b47-9a97-45e97b5811e9",
   "metadata": {},
   "outputs": [
    {
     "name": "stdin",
     "output_type": "stream",
     "text": [
      "Enter the Nmae: NAYAN\n"
     ]
    },
    {
     "name": "stdout",
     "output_type": "stream",
     "text": [
      "NAYAN\n",
      "None\n"
     ]
    }
   ],
   "source": [
    "str=print(input(\"Enter the Nmae:\"))\n",
    "print(str)"
   ]
  },
  {
   "cell_type": "markdown",
   "id": "42727824-2652-4c82-9023-6ceed11921fc",
   "metadata": {},
   "source": [
    "##2D array or matrix"
   ]
  },
  {
   "cell_type": "code",
   "execution_count": 16,
   "id": "af8488bc-f695-4157-be67-873b705d8df9",
   "metadata": {},
   "outputs": [
    {
     "name": "stdout",
     "output_type": "stream",
     "text": [
      "[[1 2 3]\n",
      " [5 6 7]]\n",
      "<class 'numpy.ndarray'>\n",
      "2\n",
      "(2, 3)\n"
     ]
    }
   ],
   "source": [
    "x3=np.array([[1,2,3],[5,6,7]])\n",
    "print(x3)\n",
    "print(type(x3))\n",
    "print(x3.ndim)\n",
    "print(x3.shape)"
   ]
  },
  {
   "cell_type": "markdown",
   "id": "c584fd25-3e96-4abe-9eaf-2f22880d02b3",
   "metadata": {},
   "source": [
    "##3D array"
   ]
  },
  {
   "cell_type": "markdown",
   "id": "e43bcbd6-65ee-408c-914f-08179c9a63d6",
   "metadata": {},
   "source": [
    "x4=np.array([[[1,2],[3,4]],[[5,6],[7,8]]])\n",
    "print(x4)\n",
    "print(type(x4))\n",
    "print(x4.ndim)\n",
    "print(x4.shape)"
   ]
  },
  {
   "cell_type": "markdown",
   "id": "d47f3374-9aca-49c3-a8e9-ff6837eb321b",
   "metadata": {},
   "source": [
    "##4D ARRAY"
   ]
  },
  {
   "cell_type": "code",
   "execution_count": 18,
   "id": "80c5bced-c6dc-4368-81c3-de45be27744d",
   "metadata": {},
   "outputs": [
    {
     "name": "stdout",
     "output_type": "stream",
     "text": [
      "[[[[ 1  2]\n",
      "   [ 3  4]]\n",
      "\n",
      "  [[ 5  6]\n",
      "   [ 7  8]]]\n",
      "\n",
      "\n",
      " [[[ 9 10]\n",
      "   [11 12]]\n",
      "\n",
      "  [[13 14]\n",
      "   [15 16]]]]\n",
      "<class 'numpy.ndarray'>\n",
      "4\n",
      "(2, 2, 2, 2)\n"
     ]
    }
   ],
   "source": [
    "x5=np.array([[[[1,2],[3,4]],[[5,6],[7,8]]],[[[9,10],[11,12]],[[13,14],[15,16]]]])\n",
    "print(x5)\n",
    "print(type(x5))\n",
    "print(x5.ndim)\n",
    "print(x5.shape)"
   ]
  },
  {
   "cell_type": "markdown",
   "id": "b56cac34-0fa1-410a-8e23-76559029e8d3",
   "metadata": {},
   "source": [
    "## RESNAPING OR AN ARRAY"
   ]
  },
  {
   "cell_type": "code",
   "execution_count": 20,
   "id": "5e39d614-6700-4634-8c5e-d1d453379ecd",
   "metadata": {},
   "outputs": [
    {
     "name": "stdout",
     "output_type": "stream",
     "text": [
      "[ 1  2  3  4  5  6  7  8  9 10 11 12]\n",
      "1\n",
      "(12,)\n",
      "******************************\n",
      "[[[[ 1  2  3]\n",
      "   [ 4  5  6]]]\n",
      "\n",
      "\n",
      " [[[ 7  8  9]\n",
      "   [10 11 12]]]]\n",
      "4\n",
      "(2, 1, 2, 3)\n",
      "******************************\n"
     ]
    }
   ],
   "source": [
    "x7=np.array([1,2,3,4,5,6,7,8,9,10,11,12])\n",
    "print(x7)\n",
    "print(x7.ndim)\n",
    "print(x7.shape)\n",
    "print(\"*\"*30)\n",
    "x6=x7.reshape(2,1,2,3)##(2,2,2),(2,4),(2,1,3,2,1)\n",
    "print(x6)\n",
    "print(x6.ndim)\n",
    "print(x6.shape)\n",
    "print(\"*\"*30)"
   ]
  },
  {
   "cell_type": "markdown",
   "id": "b52f182f-3b1d-4484-8c70-b153dd8be5ed",
   "metadata": {},
   "source": [
    "# two variables eq solutions "
   ]
  },
  {
   "cell_type": "code",
   "execution_count": 22,
   "id": "14b0440e-91aa-43a7-a9f0-7baeecaff40f",
   "metadata": {},
   "outputs": [
    {
     "name": "stdout",
     "output_type": "stream",
     "text": [
      "[-8.44444444 17.92592593]\n"
     ]
    }
   ],
   "source": [
    "a=np.array([[4,3],[-5,3]])\n",
    "b=np.array([20,96])\n",
    "sol=np.linalg.solve(a,b)\n",
    "print(sol)"
   ]
  },
  {
   "cell_type": "markdown",
   "id": "9bdddffe-b5c5-477f-ad4b-fc4e0ea07b3a",
   "metadata": {},
   "source": [
    "##three variables eq solutions"
   ]
  },
  {
   "cell_type": "code",
   "execution_count": 24,
   "id": "6bbd6df1-ef29-4785-b355-d562ce2d8019",
   "metadata": {},
   "outputs": [
    {
     "name": "stdout",
     "output_type": "stream",
     "text": [
      "[ 1.31798246 -1.89254386 -3.06798246]\n"
     ]
    }
   ],
   "source": [
    "a=np.array([[12,14,-10],[20,-15,11],[15,-4,5]])\n",
    "b=np.array([20,21,12])\n",
    "sol=np.linalg.solve(a,b)\n",
    "print(sol)"
   ]
  },
  {
   "cell_type": "markdown",
   "id": "a45ed859-22c0-4361-96f8-7a5da597fb36",
   "metadata": {},
   "source": [
    "## USE CASE OF Numpy"
   ]
  },
  {
   "cell_type": "code",
   "execution_count": 26,
   "id": "40818fa8-c092-4fa7-beb7-ee2e52614383",
   "metadata": {},
   "outputs": [
    {
     "name": "stdout",
     "output_type": "stream",
     "text": [
      "[[[ 56  76  39]\n",
      "  [ 56  76  39]\n",
      "  [ 55  75  38]\n",
      "  ...\n",
      "  [ 98 104  56]\n",
      "  [ 98 104  56]\n",
      "  [ 97 103  57]]\n",
      "\n",
      " [[ 56  76  39]\n",
      "  [ 56  76  39]\n",
      "  [ 56  76  39]\n",
      "  ...\n",
      "  [ 98 106  57]\n",
      "  [ 98 106  57]\n",
      "  [ 97 105  58]]\n",
      "\n",
      " [[ 56  76  39]\n",
      "  [ 56  76  39]\n",
      "  [ 56  76  39]\n",
      "  ...\n",
      "  [ 99 107  58]\n",
      "  [ 99 107  58]\n",
      "  [ 98 106  59]]\n",
      "\n",
      " ...\n",
      "\n",
      " [[ 73  84  42]\n",
      "  [ 73  84  42]\n",
      "  [ 72  83  41]\n",
      "  ...\n",
      "  [ 51  61  37]\n",
      "  [ 54  64  40]\n",
      "  [ 51  61  24]]\n",
      "\n",
      " [[ 75  83  42]\n",
      "  [ 75  83  42]\n",
      "  [ 74  82  41]\n",
      "  ...\n",
      "  [ 54  63  36]\n",
      "  [ 54  63  36]\n",
      "  [ 52  63  23]]\n",
      "\n",
      " [[ 75  83  42]\n",
      "  [ 75  83  42]\n",
      "  [ 74  82  41]\n",
      "  ...\n",
      "  [ 54  63  34]\n",
      "  [ 61  68  37]\n",
      "  [ 54  62  21]]]\n",
      "<class 'numpy.ndarray'>\n",
      "3\n",
      "(285, 177, 3)\n"
     ]
    }
   ],
   "source": [
    "from matplotlib.image import imread\n",
    "hi=imread(\"C://Users//dell//Desktop//12.jpeg\")\n",
    "print(hi)\n",
    "print(type(hi))\n",
    "print(hi.ndim)\n",
    "print(hi.shape)"
   ]
  },
  {
   "cell_type": "markdown",
   "id": "f49c852b-a9c6-40de-beaf-62bcaf3d1931",
   "metadata": {},
   "source": [
    "##Matrix solving"
   ]
  },
  {
   "cell_type": "code",
   "execution_count": 28,
   "id": "750b2b14-e5ef-4207-b1e4-06aabc127070",
   "metadata": {},
   "outputs": [
    {
     "name": "stdout",
     "output_type": "stream",
     "text": [
      "[[ 6  1  1]\n",
      " [-4  6  5]\n",
      " [ 2  8  7]]\n",
      "------------------------------------------------------------\n",
      "3\n",
      "------------------------------------------------------------\n",
      "19\n",
      "------------------------------------------------------------\n",
      "5.999999999999992\n",
      "------------------------------------------------------------\n",
      "[[ 0.33333333  0.16666667 -0.16666667]\n",
      " [ 6.33333333  6.66666667 -5.66666667]\n",
      " [-7.33333333 -7.66666667  6.66666667]]\n",
      "------------------------------------------------------------\n"
     ]
    }
   ],
   "source": [
    "test=np.array([[6,1,1],[-4,6,5],[2,8,7]])\n",
    "print(test)\n",
    "print(\"--\"*30)\n",
    "print(np.linalg.matrix_rank(test))\n",
    "print(\"--\"*30)\n",
    "print(np.trace(test))\n",
    "print(\"--\"*30)\n",
    "print(np.linalg.det(test))\n",
    "print(\"--\"*30)\n",
    "print(np.linalg.inv(test))\n",
    "print(\"--\"*30)"
   ]
  },
  {
   "cell_type": "markdown",
   "id": "c9661b18-b33f-42ed-a33b-6d5ca962e590",
   "metadata": {},
   "source": [
    "##Power "
   ]
  },
  {
   "cell_type": "code",
   "execution_count": 129,
   "id": "9c52634c-7293-497d-a4d9-3a9c68cd765b",
   "metadata": {},
   "outputs": [
    {
     "data": {
      "text/plain": [
       "array([[ 160,  298,  260],\n",
       "       [-394,  882,  749],\n",
       "       [-278, 1358, 1161]])"
      ]
     },
     "execution_count": 129,
     "metadata": {},
     "output_type": "execute_result"
    }
   ],
   "source": [
    "np.linalg.matrix_power(test,3)"
   ]
  },
  {
   "cell_type": "markdown",
   "id": "265c4c2c-02f6-40ae-a43f-f69e5ae36e95",
   "metadata": {},
   "source": [
    "## eigen value"
   ]
  },
  {
   "cell_type": "code",
   "execution_count": 30,
   "id": "bbe232f6-9e9e-4985-bac6-6f755a87f980",
   "metadata": {},
   "outputs": [
    {
     "name": "stdout",
     "output_type": "stream",
     "text": [
      "[[ 1  2  4]\n",
      " [88  7  4]\n",
      " [ 6  8  9]]\n",
      "\n",
      "[-84.06788609   7.84769393  93.22019217]\n",
      "[[ 0.71845948  0.09099669  0.68959088]\n",
      " [-0.69543856  0.07478808  0.71468312]\n",
      " [ 0.01346062 -0.99303894  0.11701481]]\n"
     ]
    }
   ],
   "source": [
    "test1=np.array([[1,2,4],[88,7,4],[6,8,9]])\n",
    "print(test1)\n",
    "print()\n",
    "C,d=np.linalg.eigh(test1)\n",
    "print(C)\n",
    "print(d)"
   ]
  },
  {
   "cell_type": "code",
   "execution_count": 140,
   "id": "24c53b1d-3b43-45ef-81b0-15e844571b95",
   "metadata": {},
   "outputs": [
    {
     "data": {
      "text/plain": [
       "array([[ 1, 88,  6],\n",
       "       [ 2,  7,  8],\n",
       "       [ 4,  4,  9]])"
      ]
     },
     "execution_count": 140,
     "metadata": {},
     "output_type": "execute_result"
    }
   ],
   "source": [
    "np.transpose(test1)"
   ]
  },
  {
   "cell_type": "markdown",
   "id": "20b229d3-f494-4e4d-95dd-91be31e8ccf4",
   "metadata": {},
   "source": [
    "## MEAN MODE,MIDIAN"
   ]
  },
  {
   "cell_type": "code",
   "execution_count": 32,
   "id": "01786395-48c0-4d5d-bff3-8db23c4e71cc",
   "metadata": {},
   "outputs": [
    {
     "name": "stdout",
     "output_type": "stream",
     "text": [
      "38.625\n",
      "32.5\n",
      "ModeResult(mode=0, count=1)\n"
     ]
    }
   ],
   "source": [
    "from scipy import stats\n",
    "speed=np.array([22,44,77,88,99,33,12,45,32,66,76,5,3,2,0,14])\n",
    "m=np.mean(speed)\n",
    "print(m)\n",
    "m1=np.median(speed)\n",
    "print(m1)\n",
    "m2=stats.mode(speed)\n",
    "print(m2)"
   ]
  },
  {
   "cell_type": "code",
   "execution_count": 34,
   "id": "717651ac-50eb-499b-aaae-d3135f8b130f",
   "metadata": {},
   "outputs": [
    {
     "name": "stdout",
     "output_type": "stream",
     "text": [
      "38.625\n",
      "32.5\n",
      "ModeResult(mode=0, count=1)\n"
     ]
    }
   ],
   "source": [
    "from scipy import stats\n",
    "speed=np.array([22,44,77,88,99,33,12,45,32,66,76,5,3,2,0,14])\n",
    "m=np.mean(speed)\n",
    "print(m)\n",
    "m1=np.median(speed)\n",
    "print(m1)\n",
    "m2=stats.mode(speed)\n",
    "print(m2)"
   ]
  },
  {
   "cell_type": "markdown",
   "id": "c9d3eb84-4d82-4649-9b1f-9b80a0047325",
   "metadata": {},
   "source": [
    "##SD, varience"
   ]
  },
  {
   "cell_type": "code",
   "execution_count": 39,
   "id": "d9649e58-6dbf-481a-a0a1-4f74f894673e",
   "metadata": {},
   "outputs": [
    {
     "name": "stdout",
     "output_type": "stream",
     "text": [
      "29.619906194571357\n",
      "877.3388429752066\n"
     ]
    }
   ],
   "source": [
    "speed=np.array([22,33,44,11,66,88,77,99,66,55,6])\n",
    "print(speed.std())\n",
    "print(speed.var())"
   ]
  },
  {
   "cell_type": "markdown",
   "id": "5ce10237-d658-4fd0-acb7-d6996aad57f9",
   "metadata": {},
   "source": [
    "##percentile "
   ]
  },
  {
   "cell_type": "code",
   "execution_count": 44,
   "id": "612ad380-c9e8-4d7e-8ebe-35c565c9db17",
   "metadata": {},
   "outputs": [
    {
     "data": {
      "text/plain": [
       "71.5"
      ]
     },
     "execution_count": 44,
     "metadata": {},
     "output_type": "execute_result"
    }
   ],
   "source": [
    "speed=np.array([22,33,44,11,66,88,77,99,66,55,6])\n",
    "np.percentile(speed,75)"
   ]
  },
  {
   "cell_type": "code",
   "execution_count": null,
   "id": "2a78c515-08f3-44a9-8b1e-d5688a645406",
   "metadata": {},
   "outputs": [],
   "source": []
  }
 ],
 "metadata": {
  "kernelspec": {
   "display_name": "Python [conda env:base] *",
   "language": "python",
   "name": "conda-base-py"
  },
  "language_info": {
   "codemirror_mode": {
    "name": "ipython",
    "version": 3
   },
   "file_extension": ".py",
   "mimetype": "text/x-python",
   "name": "python",
   "nbconvert_exporter": "python",
   "pygments_lexer": "ipython3",
   "version": "3.12.7"
  }
 },
 "nbformat": 4,
 "nbformat_minor": 5
}
